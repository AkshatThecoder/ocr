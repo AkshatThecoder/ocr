{
 "cells": [
  {
   "cell_type": "markdown",
   "id": "eca7a4db",
   "metadata": {},
   "source": [
    "## importing the dataset"
   ]
  },
  {
   "cell_type": "code",
   "execution_count": 21,
   "id": "bccc0aca",
   "metadata": {},
   "outputs": [
    {
     "name": "stderr",
     "output_type": "stream",
     "text": [
      "/Library/Frameworks/Python.framework/Versions/3.11/lib/python3.11/site-packages/sklearn/datasets/_openml.py:932: FutureWarning: The default value of `parser` will change from `'liac-arff'` to `'auto'` in 1.4. You can set `parser='auto'` to silence this warning. Therefore, an `ImportError` will be raised from 1.4 if the dataset is dense and pandas is not installed. Note that the pandas parser may return different data types. See the Notes Section in fetch_openml's API doc for details.\n",
      "  warn(\n"
     ]
    },
    {
     "data": {
      "text/plain": [
       "((70000, 784), (70000,))"
      ]
     },
     "execution_count": 21,
     "metadata": {},
     "output_type": "execute_result"
    }
   ],
   "source": [
    "from sklearn.datasets import fetch_openml\n",
    "mnist= fetch_openml('mnist_784')\n",
    "\n",
    "# splitting the datset into features and labels\n",
    "x = mnist[\"data\"]\n",
    "y = mnist[\"target\"]\n",
    "\n",
    "# now the shape of x and y is ((70000, 784), (70000,)) and we it not equal to a image dimension's which are (28,28) in this datasets\n",
    "x.shape,y.shape\n",
    "\n"
   ]
  },
  {
   "cell_type": "code",
   "execution_count": 31,
   "id": "aed62ad4",
   "metadata": {
    "scrolled": true
   },
   "outputs": [
    {
     "data": {
      "image/png": "[encoded data removed]",
      "text/plain": [
       "<Figure size 640x480 with 1 Axes>"
      ]
     },
     "metadata": {},
     "output_type": "display_data"
    }
   ],
   "source": [
    "# now changing the shape of the x and y so we can see it as image and we can plot it\n",
    "%matplotlib inline\n",
    "import matplotlib.pyplot as plt\n",
    "import numpy as np\n",
    "some_digit = x.to_numpy()[36001]\n",
    "some_digit_image = some_digit.reshape(28, 28)  # let's reshape to plot it\n",
    "\n",
    "plt.imshow(some_digit_image, cmap=plt.cm.binary,\n",
    "           interpolation='nearest')\n",
    "plt.axis(\"off\")\n",
    "plt.show()\n",
    "\n",
    "\n",
    "\n"
   ]
  },
  {
   "cell_type": "code",
   "execution_count": 32,
   "id": "a60418b3",
   "metadata": {},
   "outputs": [
    {
     "data": {
      "text/plain": [
       "'2'"
      ]
     },
     "execution_count": 32,
     "metadata": {},
     "output_type": "execute_result"
    }
   ],
   "source": [
    "y[36001]"
   ]
  },
  {
   "cell_type": "code",
   "execution_count": 40,
   "id": "9042dd2c",
   "metadata": {},
   "outputs": [
    {
     "data": {
      "text/plain": [
       "97.05"
      ]
     },
     "execution_count": 40,
     "metadata": {},
     "output_type": "execute_result"
    }
   ],
   "source": [
    "\n",
    "import numpy as np\n",
    "shuffle_index = np.random.permutation(60000)\n",
    "\n",
    "# import classifier\n",
    "from sklearn.ensemble import RandomForestClassifier\n",
    "\n",
    "# create a random seed\n",
    "import numpy as np\n",
    "np.random.seed(42)\n",
    "\n",
    "# perform train test split\n",
    "x_train, x_test = x[:60000], x[60000:70000]\n",
    "y_train, y_test = y[:60000], y[60000:70000]\n",
    "\n",
    "# instantiate a model and fitting it.\n",
    "clf = RandomForestClassifier()\n",
    "clf.fit(x_train,y_train)\n",
    "\n",
    "# cheaking the score\n",
    "clf.score(x_test,y_test)*100"
   ]
  },
  {
   "cell_type": "code",
   "execution_count": 43,
   "id": "ffbefb68",
   "metadata": {},
   "outputs": [
    {
     "data": {
      "text/plain": [
       "array(['7', '2', '1', ..., '4', '5', '6'], dtype=object)"
      ]
     },
     "execution_count": 43,
     "metadata": {},
     "output_type": "execute_result"
    }
   ],
   "source": [
    "# making prediction \n",
    "y_preds = clf.predict(x_test)\n",
    "y_preds"
   ]
  },
  {
   "cell_type": "code",
   "execution_count": 47,
   "id": "9502a08a",
   "metadata": {},
   "outputs": [
    {
     "data": {
      "text/plain": [
       "array([[ 971,    0,    0,    0,    0,    2,    3,    1,    3,    0],\n",
       "       [   0, 1127,    2,    2,    0,    1,    2,    0,    1,    0],\n",
       "       [   6,    0, 1002,    5,    3,    0,    3,    8,    5,    0],\n",
       "       [   1,    0,    9,  972,    0,    9,    0,    9,    8,    2],\n",
       "       [   1,    0,    0,    0,  955,    0,    5,    1,    4,   16],\n",
       "       [   5,    1,    1,    9,    2,  860,    5,    2,    5,    2],\n",
       "       [   7,    3,    0,    0,    3,    3,  937,    0,    5,    0],\n",
       "       [   1,    4,   20,    2,    0,    0,    0,  990,    2,    9],\n",
       "       [   4,    0,    6,    7,    5,    5,    5,    4,  930,    8],\n",
       "       [   7,    6,    2,   12,   12,    1,    0,    4,    4,  961]])"
      ]
     },
     "execution_count": 47,
     "metadata": {},
     "output_type": "execute_result"
    }
   ],
   "source": [
    "# evaluating our model\n",
    "from sklearn.model_selection import cross_val_score\n",
    "from sklearn.metrics import confusion_matrix\n",
    "\n",
    "# performing cross-validating split\n",
    "cv_split = cross_val_score(clf,x,y)\n",
    "cv_split\n",
    "\n",
    "# finding confusion matirix\n",
    "y_preds = clf.predict(x_test)\n",
    "confusion_matrix(y_test,y_preds)\n",
    "\n",
    "# Visualize the confution matrix with pd.crosstab()\n",
    "import pandas as pd\n",
    "pd.crosstab(y_test,y_preds,rownames=[\"Actual labels\"],colnames=[\"Predicted labels\"])"
   ]
  },
  {
   "cell_type": "code",
   "execution_count": null,
   "id": "65dd6a55",
   "metadata": {},
   "outputs": [],
   "source": [
    "## now taking input(image) to see whether our trained model can predict the image\n",
    "import sys\n",
    "import cv2\n",
    "import numpy as np\n",
    "\n",
    "# Load and display an image -- 'mnist.jpg'\n",
    "input_file = sys.argv[1]\n",
    "img = cv2.imread(\"mnist.jpg\")\n",
    "\n",
    "cv2.imshow('Original', img)\n"
   ]
  },
  {
   "cell_type": "code",
   "execution_count": null,
   "id": "876a8188",
   "metadata": {},
   "outputs": [],
   "source": []
  }
 ],
 "metadata": {
  "kernelspec": {
   "display_name": "Python 3 (ipykernel)",
   "language": "python",
   "name": "python3"
  },
  "language_info": {
   "codemirror_mode": {
    "name": "ipython",
    "version": 3
   },
   "file_extension": ".py",
   "mimetype": "text/x-python",
   "name": "python",
   "nbconvert_exporter": "python",
   "pygments_lexer": "ipython3",
   "version": "3.11.1"
  }
 },
 "nbformat": 4,
 "nbformat_minor": 5
}
